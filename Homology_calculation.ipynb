{
 "cells": [
  {
   "cell_type": "code",
   "execution_count": null,
   "id": "8d47fc8c-a18a-4878-bcbb-9f6a1c0b7813",
   "metadata": {},
   "outputs": [],
   "source": [
    "# Homology calculation in SageMath\n",
    "\n",
    "# Step 1: Define polynomial ring for coefficients\n",
    "R = PolynomialRing(ZZ, [f\"x{i}{j}\" for i in range(3) for j in range(3)])\n",
    "vars = R.gens()\n"
   ]
  },
  {
   "cell_type": "code",
   "execution_count": 2,
   "id": "f57f1418-3018-468b-9702-b23c519b0ced",
   "metadata": {},
   "outputs": [
    {
     "name": "stdout",
     "output_type": "stream",
     "text": [
      "Generic matrix A:\n"
     ]
    },
    {
     "data": {
      "text/html": [
       "<html>\\(\\displaystyle \\left(\\begin{array}{rrr}\n",
       "x_{00} & x_{01} & x_{02} \\\\\n",
       "x_{10} & x_{11} & x_{12} \\\\\n",
       "x_{20} & x_{21} & x_{22}\n",
       "\\end{array}\\right)\\)</html>"
      ],
      "text/latex": [
       "$\\displaystyle \\left(\\begin{array}{rrr}\n",
       "x_{00} & x_{01} & x_{02} \\\\\n",
       "x_{10} & x_{11} & x_{12} \\\\\n",
       "x_{20} & x_{21} & x_{22}\n",
       "\\end{array}\\right)$"
      ],
      "text/plain": [
       "[x00 x01 x02]\n",
       "[x10 x11 x12]\n",
       "[x20 x21 x22]"
      ]
     },
     "metadata": {},
     "output_type": "display_data"
    }
   ],
   "source": [
    "\n",
    "# Step 2: Define generic 3x3 matrix A\n",
    "A = matrix(R, 3, 3, vars)\n",
    "print(\"Generic matrix A:\")\n",
    "show(A)\n"
   ]
  },
  {
   "cell_type": "code",
   "execution_count": 3,
   "id": "f603e47c-643f-4ac4-bab1-d595eee04c81",
   "metadata": {},
   "outputs": [],
   "source": [
    "\n",
    "# Step 3: Define boundary map\n",
    "\n",
    "def boundary_image(M):\n",
    "    return matrix(R, 2, 2, [\n",
    "        [M[1,1], M[1,2] - M[0,2] + M[0,1]],\n",
    "        [M[2,1] - M[2,0] + M[1,0], M[1,1]]\n",
    "    ])\n"
   ]
  },
  {
   "cell_type": "code",
   "execution_count": 4,
   "id": "1d3e5a0e-287f-42ee-9460-b2669130e9eb",
   "metadata": {},
   "outputs": [
    {
     "name": "stdout",
     "output_type": "stream",
     "text": [
      "\n",
      "Boundary of A:\n"
     ]
    },
    {
     "data": {
      "text/html": [
       "<html>\\(\\displaystyle \\left(\\begin{array}{rr}\n",
       "x_{11} & x_{01} - x_{02} + x_{12} \\\\\n",
       "x_{10} - x_{20} + x_{21} & x_{11}\n",
       "\\end{array}\\right)\\)</html>"
      ],
      "text/latex": [
       "$\\displaystyle \\left(\\begin{array}{rr}\n",
       "x_{11} & x_{01} - x_{02} + x_{12} \\\\\n",
       "x_{10} - x_{20} + x_{21} & x_{11}\n",
       "\\end{array}\\right)$"
      ],
      "text/plain": [
       "[            x11 x01 - x02 + x12]\n",
       "[x10 - x20 + x21             x11]"
      ]
     },
     "metadata": {},
     "output_type": "display_data"
    }
   ],
   "source": [
    "\n",
    "# Step 4: Compute boundary of A\n",
    "B_A = boundary_image(A)\n",
    "print(\"\\nBoundary of A:\")\n",
    "show(B_A)\n"
   ]
  },
  {
   "cell_type": "code",
   "execution_count": 5,
   "id": "ff135dbd-7062-4f15-90a4-f6bafe169744",
   "metadata": {},
   "outputs": [
    {
     "name": "stdout",
     "output_type": "stream",
     "text": [
      "\n",
      "Boundary matrix B:\n"
     ]
    },
    {
     "data": {
      "text/html": [
       "<html>\\(\\displaystyle \\left(\\begin{array}{rrrrrrrrr}\n",
       "0 & 0 & 0 & 0 & 1 & 0 & 0 & 0 & 0 \\\\\n",
       "0 & 1 & -1 & 0 & 0 & 1 & 0 & 0 & 0 \\\\\n",
       "0 & 0 & 0 & 1 & 0 & 0 & -1 & 1 & 0 \\\\\n",
       "0 & 0 & 0 & 0 & 1 & 0 & 0 & 0 & 0\n",
       "\\end{array}\\right)\\)</html>"
      ],
      "text/latex": [
       "$\\displaystyle \\left(\\begin{array}{rrrrrrrrr}\n",
       "0 & 0 & 0 & 0 & 1 & 0 & 0 & 0 & 0 \\\\\n",
       "0 & 1 & -1 & 0 & 0 & 1 & 0 & 0 & 0 \\\\\n",
       "0 & 0 & 0 & 1 & 0 & 0 & -1 & 1 & 0 \\\\\n",
       "0 & 0 & 0 & 0 & 1 & 0 & 0 & 0 & 0\n",
       "\\end{array}\\right)$"
      ],
      "text/plain": [
       "[ 0  0  0  0  1  0  0  0  0]\n",
       "[ 0  1 -1  0  0  1  0  0  0]\n",
       "[ 0  0  0  1  0  0 -1  1  0]\n",
       "[ 0  0  0  0  1  0  0  0  0]"
      ]
     },
     "metadata": {},
     "output_type": "display_data"
    }
   ],
   "source": [
    "# Step 5: Build boundary matrix B\n",
    "def boundary_matrix():\n",
    "    basis = [matrix(R, 3, 3, {(i,j):1}) for i in range(3) for j in range(3)]\n",
    "    rows = []\n",
    "    for i in range(2):\n",
    "        for j in range(2):\n",
    "            row = [boundary_image(E)[i,j] for E in basis]\n",
    "            rows.append(row)\n",
    "    return matrix(R, 4, 9, rows)\n",
    "\n",
    "B = boundary_matrix()\n",
    "print(\"\\nBoundary matrix B:\")\n",
    "show(B)\n"
   ]
  },
  {
   "cell_type": "code",
   "execution_count": 6,
   "id": "4dd2d01b-fc00-4e70-ba8e-e8b385b335aa",
   "metadata": {},
   "outputs": [
    {
     "name": "stdout",
     "output_type": "stream",
     "text": [
      "\n",
      "Flattened boundary b_vec:\n"
     ]
    },
    {
     "data": {
      "text/html": [
       "<html>\\(\\displaystyle \\left(x_{11},\\,x_{01} - x_{02} + x_{12},\\,x_{10} - x_{20} + x_{21},\\,x_{11}\\right)\\)</html>"
      ],
      "text/latex": [
       "$\\displaystyle \\left(x_{11},\\,x_{01} - x_{02} + x_{12},\\,x_{10} - x_{20} + x_{21},\\,x_{11}\\right)$"
      ],
      "text/plain": [
       "(x11, x01 - x02 + x12, x10 - x20 + x21, x11)"
      ]
     },
     "metadata": {},
     "output_type": "display_data"
    }
   ],
   "source": [
    "# Step 6: Flatten boundary of A\n",
    "b_vec = vector(R, [B_A[i,j] for i in range(2) for j in range(2)])\n",
    "print(\"\\nFlattened boundary b_vec:\")\n",
    "show(b_vec)\n"
   ]
  },
  {
   "cell_type": "code",
   "execution_count": 7,
   "id": "74886880-8844-4884-a297-8a16a2d54dfb",
   "metadata": {},
   "outputs": [
    {
     "name": "stdout",
     "output_type": "stream",
     "text": [
      "\n",
      "Particular solution v0:\n"
     ]
    },
    {
     "data": {
      "text/html": [
       "<html>\\(\\displaystyle \\left(0,\\,x_{01} - x_{02} + x_{12},\\,0,\\,x_{10} - x_{20} + x_{21},\\,x_{11},\\,0,\\,0,\\,0,\\,0\\right)\\)</html>"
      ],
      "text/latex": [
       "$\\displaystyle \\left(0,\\,x_{01} - x_{02} + x_{12},\\,0,\\,x_{10} - x_{20} + x_{21},\\,x_{11},\\,0,\\,0,\\,0,\\,0\\right)$"
      ],
      "text/plain": [
       "(0, x01 - x02 + x12, 0, x10 - x20 + x21, x11, 0, 0, 0, 0)"
      ]
     },
     "metadata": {},
     "output_type": "display_data"
    }
   ],
   "source": [
    "# Step 7: Solve B * v = b_vec for v\n",
    "\n",
    "# Compute particular solution\n",
    "sol = B.solve_right(b_vec)\n",
    "print(\"\\nParticular solution v0:\")\n",
    "show(sol)\n"
   ]
  },
  {
   "cell_type": "code",
   "execution_count": 8,
   "id": "05d4c3ff-7566-455c-920a-af24a4f936e5",
   "metadata": {},
   "outputs": [
    {
     "name": "stdout",
     "output_type": "stream",
     "text": [
      "\n",
      "Kernel of B:\n"
     ]
    },
    {
     "data": {
      "text/html": [
       "<html>\\(\\displaystyle \\left[\\left(1,\\,0,\\,0,\\,0,\\,0,\\,0,\\,0,\\,0,\\,0\\right), \\left(0,\\,1,\\,1,\\,0,\\,0,\\,0,\\,0,\\,0,\\,0\\right), \\left(0,\\,0,\\,1,\\,0,\\,0,\\,1,\\,0,\\,0,\\,0\\right), \\left(0,\\,0,\\,0,\\,1,\\,0,\\,0,\\,1,\\,0,\\,0\\right), \\left(0,\\,0,\\,0,\\,0,\\,0,\\,0,\\,1,\\,1,\\,0\\right), \\left(0,\\,0,\\,0,\\,0,\\,0,\\,0,\\,0,\\,0,\\,1\\right)\\right]\\)</html>"
      ],
      "text/latex": [
       "$\\displaystyle \\left[\\left(1,\\,0,\\,0,\\,0,\\,0,\\,0,\\,0,\\,0,\\,0\\right), \\left(0,\\,1,\\,1,\\,0,\\,0,\\,0,\\,0,\\,0,\\,0\\right), \\left(0,\\,0,\\,1,\\,0,\\,0,\\,1,\\,0,\\,0,\\,0\\right), \\left(0,\\,0,\\,0,\\,1,\\,0,\\,0,\\,1,\\,0,\\,0\\right), \\left(0,\\,0,\\,0,\\,0,\\,0,\\,0,\\,1,\\,1,\\,0\\right), \\left(0,\\,0,\\,0,\\,0,\\,0,\\,0,\\,0,\\,0,\\,1\\right)\\right]$"
      ],
      "text/plain": [
       "[\n",
       "(1, 0, 0, 0, 0, 0, 0, 0, 0),\n",
       "(0, 1, 1, 0, 0, 0, 0, 0, 0),\n",
       "(0, 0, 1, 0, 0, 1, 0, 0, 0),\n",
       "(0, 0, 0, 1, 0, 0, 1, 0, 0),\n",
       "(0, 0, 0, 0, 0, 0, 1, 1, 0),\n",
       "(0, 0, 0, 0, 0, 0, 0, 0, 1)\n",
       "]"
      ]
     },
     "metadata": {},
     "output_type": "display_data"
    }
   ],
   "source": [
    "# Step 8: Compute kernel of B\n",
    "ker = B.right_kernel()\n",
    "print(\"\\nKernel of B:\")\n",
    "show(ker.gens())\n"
   ]
  },
  {
   "cell_type": "code",
   "execution_count": 9,
   "id": "6f4f144d-b5a7-46e6-b0ca-bae437790571",
   "metadata": {},
   "outputs": [
    {
     "name": "stdout",
     "output_type": "stream",
     "text": [
      "\n",
      "Difference (A - v0):\n"
     ]
    },
    {
     "data": {
      "text/html": [
       "<html>\\(\\displaystyle \\left(x_{00},\\,x_{02} - x_{12},\\,x_{02},\\,x_{20} - x_{21},\\,0,\\,x_{12},\\,x_{20},\\,x_{21},\\,x_{22}\\right)\\)</html>"
      ],
      "text/latex": [
       "$\\displaystyle \\left(x_{00},\\,x_{02} - x_{12},\\,x_{02},\\,x_{20} - x_{21},\\,0,\\,x_{12},\\,x_{20},\\,x_{21},\\,x_{22}\\right)$"
      ],
      "text/plain": [
       "(x00, x02 - x12, x02, x20 - x21, 0, x12, x20, x21, x22)"
      ]
     },
     "metadata": {},
     "output_type": "display_data"
    },
    {
     "name": "stdout",
     "output_type": "stream",
     "text": [
      "\n",
      "Is A in the solution space: True\n"
     ]
    }
   ],
   "source": [
    "\n",
    "\n",
    "\n",
    "# Step 9: Verify that flatten(A) - sol lies in kernel\n",
    "v_A = vector(R, A.list())\n",
    "diff = v_A - sol\n",
    "print(\"\\nDifference (A - v0):\")\n",
    "show(diff)\n",
    "\n",
    "is_in_kernel = diff in ker\n",
    "print(\"\\nIs A in the solution space:\", is_in_kernel)\n"
   ]
  },
  {
   "cell_type": "code",
   "execution_count": 10,
   "id": "2f962efb-11ca-41d5-bedc-afc90afd66da",
   "metadata": {},
   "outputs": [],
   "source": [
    "import sys\n",
    "sys.path.append(\"/home/sage/notebooks\")"
   ]
  },
  {
   "cell_type": "code",
   "execution_count": 11,
   "id": "dd874b35-a3bd-4b09-b766-ff3c48502616",
   "metadata": {},
   "outputs": [
    {
     "name": "stdout",
     "output_type": "stream",
     "text": [
      "Original Tensor T:\n",
      "\\begin{bmatrix}\n",
      "x_{0,0} & x_{0,1} & x_{0,2} \\\\\n",
      "x_{1,0} & x_{1,1} & x_{1,2} \\\\\n",
      "x_{2,0} & x_{2,1} & x_{2,2}\n",
      "\\end{bmatrix}\n",
      "\n",
      "Filler Tensor T':\n",
      "\\begin{bmatrix}\n",
      "x_{0,0} & x_{0,1} & x_{0,1} - x_{1,1} + x_{1,2} \\\\\n",
      "x_{1,0} & x_{1,1} & x_{1,2} \\\\\n",
      "x_{1,0} - x_{1,1} + x_{2,1} & x_{2,1} & x_{2,2}\n",
      "\\end{bmatrix}\n"
     ]
    }
   ],
   "source": [
    "# Cell 1: Setup and imports\n",
    "import sympy as sp\n",
    "from symbolic_tensor_ops import SymbolicTensor\n",
    "from tensor_ops import bdry, standard_basis_matrix\n",
    "\n",
    "n = 3  # Shape (n, n) for 2D simplicial tensor\n",
    "\n",
    "# Create symbolic tensor T\n",
    "T = SymbolicTensor((n, n), init_type='range')\n",
    "\n",
    "# Create a 1-horn and fill it\n",
    "horn = T.horn(1)\n",
    "T_filler = T.filler(horn, 1)\n",
    "\n",
    "print(\"Original Tensor T:\")\n",
    "print(T.to_latex())\n",
    "\n",
    "print(\"\\nFiller Tensor T':\")\n",
    "print(T_filler.to_latex())\n"
   ]
  },
  {
   "cell_type": "code",
   "execution_count": 12,
   "id": "3edd769d-5119-4ebb-978c-41c7dcd23b14",
   "metadata": {},
   "outputs": [
    {
     "name": "stdout",
     "output_type": "stream",
     "text": [
      "\n",
      "Difference Tensor T - T':\n",
      "[[0 0 -x_{0,1} + x_{0,2} + x_{1,1} - x_{1,2}] \n",
      "                    [0 0 0]                   \n",
      " [-x_{1,0} + x_{1,1} + x_{2,0} - x_{2,1} 0 0]]\n",
      "\n",
      "Boundary of T - T':\n",
      "[[0 x_{0,1} - x_{0,2} - x_{1,1} + x_{1,2}] \n",
      " [x_{1,0} - x_{1,1} - x_{2,0} + x_{2,1} 0]]\n",
      "\n",
      "is_cycle1 False\n",
      "\n",
      "is_cycle2 False\n",
      "\n",
      "Is T - T' a cycle: False\n"
     ]
    }
   ],
   "source": [
    "# Cell 2: Compute difference and check cycle\n",
    "T_diff = T.tensor - T_filler.tensor\n",
    "\n",
    "print(\"\\nDifference Tensor T - T':\")\n",
    "print(sp.pretty(T_diff))\n",
    "\n",
    "# Check if cycle\n",
    "T_diff_tensor = SymbolicTensor((n, n), tensor=T_diff)\n",
    "T_diff_bdry = T_diff_tensor.bdry().tensor\n",
    "\n",
    "print(\"\\nBoundary of T - T':\")\n",
    "print(sp.pretty(T_diff_bdry))\n",
    "\n",
    "\n",
    "is_cycle1 = all(c == 0 for c in T_diff_bdry[0]) \n",
    "is_cycle2 = all(c == 0 for c in T_diff_bdry[1])  # This works over Z\n",
    "print(\"\\nis_cycle1\", is_cycle1)\n",
    "print(\"\\nis_cycle2\", is_cycle2)\n",
    "is_cycle = is_cycle1 and is_cycle2\n",
    "print(\"\\nIs T - T' a cycle:\", is_cycle)\n",
    "\n"
   ]
  },
  {
   "cell_type": "code",
   "execution_count": 13,
   "id": "95c1334f-eb1e-49f1-a0bf-dbc6837ee376",
   "metadata": {},
   "outputs": [
    {
     "name": "stdout",
     "output_type": "stream",
     "text": [
      "3\n"
     ]
    }
   ],
   "source": [
    "n=3\n",
    "print(n)"
   ]
  },
  {
   "cell_type": "code",
   "execution_count": 14,
   "id": "d50b06e8-bb86-4411-bc28-d62ce1825c9c",
   "metadata": {},
   "outputs": [
    {
     "ename": "TypeError",
     "evalue": "'function' object cannot be interpreted as an integer",
     "output_type": "error",
     "traceback": [
      "\u001b[0;31m---------------------------------------------------------------------------\u001b[0m",
      "\u001b[0;31mTypeError\u001b[0m                                 Traceback (most recent call last)",
      "Cell \u001b[0;32mIn[14], line 6\u001b[0m\n\u001b[1;32m      3\u001b[0m \u001b[38;5;28;01mfrom\u001b[39;00m \u001b[38;5;21;01msage\u001b[39;00m\u001b[38;5;21;01m.\u001b[39;00m\u001b[38;5;21;01mall\u001b[39;00m \u001b[38;5;28;01mimport\u001b[39;00m \u001b[38;5;241m*\u001b[39m\n\u001b[1;32m      5\u001b[0m \u001b[38;5;66;03m# Polynomial ring for coefficients\u001b[39;00m\n\u001b[0;32m----> 6\u001b[0m R \u001b[38;5;241m=\u001b[39m PolynomialRing(ZZ, [\u001b[38;5;124mf\u001b[39m\u001b[38;5;124m\"\u001b[39m\u001b[38;5;124mx\u001b[39m\u001b[38;5;132;01m{\u001b[39;00mi\u001b[38;5;132;01m}\u001b[39;00m\u001b[38;5;132;01m{\u001b[39;00mj\u001b[38;5;132;01m}\u001b[39;00m\u001b[38;5;124m\"\u001b[39m \u001b[38;5;28;01mfor\u001b[39;00m i \u001b[38;5;129;01min\u001b[39;00m \u001b[38;5;28;43mrange\u001b[39;49m\u001b[43m(\u001b[49m\u001b[43mn\u001b[49m\u001b[43m)\u001b[49m \u001b[38;5;28;01mfor\u001b[39;00m j \u001b[38;5;129;01min\u001b[39;00m \u001b[38;5;28mrange\u001b[39m(n)])\n\u001b[1;32m      8\u001b[0m \u001b[38;5;66;03m# Build boundary matrix B\u001b[39;00m\n\u001b[1;32m      9\u001b[0m basis \u001b[38;5;241m=\u001b[39m [standard_basis_matrix(n, n, i, j) \u001b[38;5;28;01mfor\u001b[39;00m i \u001b[38;5;129;01min\u001b[39;00m \u001b[38;5;28mrange\u001b[39m(n) \u001b[38;5;28;01mfor\u001b[39;00m j \u001b[38;5;129;01min\u001b[39;00m \u001b[38;5;28mrange\u001b[39m(n)]\n",
      "\u001b[0;31mTypeError\u001b[0m: 'function' object cannot be interpreted as an integer"
     ]
    }
   ],
   "source": [
    "\n",
    "n=3\n",
    "# Cell 3: Check if T - T' is a boundary (Linear Algebra)\n",
    "from sage.all import *\n",
    "\n",
    "# Polynomial ring for coefficients\n",
    "R = PolynomialRing(ZZ, [f\"x{i}{j}\" for i in range(n) for j in range(n)])\n",
    "\n",
    "# Build boundary matrix B\n",
    "basis = [standard_basis_matrix(n, n, i, j) for i in range(n) for j in range(n)]\n",
    "rows = []\n",
    "for i in range(n - 1):\n",
    "    for j in range(n - 1):\n",
    "        row = [bdry(E)[i, j] for E in basis]\n",
    "        rows.append(row)\n",
    "\n",
    "B = matrix(ZZ, (n - 1) * (n - 1), n * n, rows)\n",
    "\n",
    "# Flatten difference tensor\n",
    "b_vec = vector(ZZ, [(T_diff[i, j] if isinstance(T_diff[i, j], int) else 0) for i in range(n - 1) for j in range(n - 1)])\n",
    "\n",
    "# Solve B * v = b_vec\n",
    "try:\n",
    "    sol = B.solve_right(b_vec)\n",
    "    print(\"\\nT - T' is a boundary. Solution:\")\n",
    "    print(sol)\n",
    "except ValueError:\n",
    "    print(\"\\nT - T' is not a boundary.\")\n"
   ]
  },
  {
   "cell_type": "code",
   "execution_count": 101,
   "id": "b3119aaf-f9b0-4f26-bd84-4ecfe72025ac",
   "metadata": {
    "scrolled": true
   },
   "outputs": [
    {
     "name": "stdout",
     "output_type": "stream",
     "text": [
      "<function numerical_approx at 0x7fa71bcab1a0>\n",
      "<class 'range'>\n",
      "Integer Ring\n",
      "<function PolynomialRing at 0x7fa71994dee0>\n"
     ]
    }
   ],
   "source": [
    "print(n)\n",
    "print(range)\n",
    "print(ZZ)\n",
    "print(PolynomialRing)\n"
   ]
  },
  {
   "cell_type": "code",
   "execution_count": null,
   "id": "f8e53eeb-577f-4ef6-80f7-e0286273dd87",
   "metadata": {},
   "outputs": [],
   "source": []
  },
  {
   "cell_type": "code",
   "execution_count": 102,
   "id": "fe19c034-f598-4043-b8c5-7420d0525d88",
   "metadata": {},
   "outputs": [],
   "source": [
    "del PolynomialRing\n",
    "from sage.all import PolynomialRing\n"
   ]
  },
  {
   "cell_type": "code",
   "execution_count": null,
   "id": "e88c0ac8-ecd4-4081-951e-b61a04363d7d",
   "metadata": {},
   "outputs": [],
   "source": []
  }
 ],
 "metadata": {
  "kernelspec": {
   "display_name": "SageMath 10.5",
   "language": "sage",
   "name": "sagemath"
  },
  "language_info": {
   "codemirror_mode": {
    "name": "ipython",
    "version": 3
   },
   "file_extension": ".py",
   "mimetype": "text/x-python",
   "name": "python",
   "nbconvert_exporter": "python",
   "pygments_lexer": "ipython3",
   "version": "3.12.5"
  }
 },
 "nbformat": 4,
 "nbformat_minor": 5
}
