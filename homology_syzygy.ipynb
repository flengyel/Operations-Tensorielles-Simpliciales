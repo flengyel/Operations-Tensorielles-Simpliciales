{
 "cells": [
  {
   "cell_type": "markdown",
   "id": "a24c01c8",
   "metadata": {},
   "source": [
    "# Homology Syzygy Calculation in SageMath\n",
    "\n",
    "This notebook computes the syzygy space of the boundary equation\n",
    "over the polynomial ring \\( \\mathbb{Z}[x_{ij}] \\).\n",
    "\n",
    "The goal is to determine whether a symbolic matrix difference is a boundary."
   ]
  },
  {
   "cell_type": "code",
   "execution_count": null,
   "id": "0ce4b456",
   "metadata": {},
   "outputs": [],
   "source": [
    "R.<x00,x01,x02,x10,x11,x12,x20,x21,x22> = PolynomialRing(ZZ)\n",
    "n = 3  # Shape (3,3)\n",
    "\n",
    "# Define boundary image as 2x2 matrix (n-1 x n-1)\n",
    "def boundary_image(m):\n",
    "    return matrix(R, [[m[1,1], m[1,2] - m[0,2] + m[0,1]],\n",
    "                      [m[2,1] - m[2,0] + m[1,0], m[1,1]]])\n",
    "\n",
    "# Generic 3x3 matrix\n",
    "M = matrix(R, 3, 3, [x00, x01, x02, x10, x11, x12, x20, x21, x22])\n",
    "B = boundary_image(M)\n",
    "\n",
    "print(\"Boundary image of symbolic matrix:\")\n",
    "show(B)"
   ]
  },
  {
   "cell_type": "code",
   "execution_count": null,
   "id": "ed45e8a4",
   "metadata": {},
   "outputs": [],
   "source": [
    "# Flatten B to a vector\n",
    "b_vec = vector(R, [B[0,0], B[0,1], B[1,0], B[1,1]])\n",
    "\n",
    "# Define unknowns for the preimage matrix N\n",
    "N_vars = var([f\"n{i}{j}\" for i in range(3) for j in range(3)])\n",
    "N = matrix(R, 3, 3, N_vars)\n",
    "\n",
    "# Compute boundary of N\n",
    "BN = boundary_image(N)\n",
    "\n",
    "# Flatten BN\n",
    "bn_vec = vector(R, [BN[0,0], BN[0,1], BN[1,0], BN[1,1]])\n",
    "\n",
    "# Set up the syzygy condition\n",
    "system = [bn_vec[i] - b_vec[i] for i in range(4)]\n",
    "\n",
    "# Solve (this will compute syzygies)\n",
    "sol = solve(system, N_vars)\n",
    "print(\"Solution space (syzygies):\")\n",
    "show(sol)"
   ]
  }
 ],
 "metadata": {},
 "nbformat": 4,
 "nbformat_minor": 5
}
