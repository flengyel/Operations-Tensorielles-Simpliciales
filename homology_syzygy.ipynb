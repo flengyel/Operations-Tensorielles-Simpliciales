{
 "cells": [
  {
   "cell_type": "markdown",
   "metadata": {},
   "source": [
    "# Homology Boundary Equation in SageMath\n",
    "\n",
    "This notebook computes whether a given symbolic tensor (difference matrix) is a boundary by setting up and solving the equation $\partial(M) = T$ over $\mathbb{Z}[x_{ij}]$ using SageMath.\n"
   ]
  },
  {
   "cell_type": "code",
   "execution_count": null,
   "metadata": {},
   "outputs": [],
   "source": [
    "# Load dependencies\n",
    "import numpy as np\n",
    "from sage.all import *\n",
    "from tensor_ops import bdry, standard_basis_matrix\n",
    "from symbolic_tensor_ops import SymbolicTensor"
   ]
  },
  {
   "cell_type": "markdown",
   "metadata": {},
   "source": [
    "## Step 1: Define polynomial ring and symbolic tensor"
   ]
  },
  {
   "cell_type": "code",
   "execution_count": null,
   "metadata": {},
   "outputs": [],
   "source": [
    "n = 3\n",
    "R = PolynomialRing(ZZ, [f'x{i}{j}' for i in range(n) for j in range(n)])\n",
    "R.inject_variables()\n",
    "\n",
    "# Construct symbolic tensor\n",
    "A = SymbolicTensor((n, n))\n",
    "\n",
    "# Compute boundary and filler\n",
    "horn = A.horn(1)\n",
    "filler = A.filler(horn, 1)\n",
    "diff = A.tensor - filler.tensor\n",
    "diff_matrix = Matrix(SR, n, n, lambda i, j: diff[i, j])\n",
    "\n",
    "# Compute boundary of difference\n",
    "diff_boundary = A.bdry().tensor - filler.bdry().tensor\n",
    "diff_boundary_matrix = Matrix(SR, n - 1, n - 1, lambda i, j: diff_boundary[i, j])\n",
    "diff_boundary_matrix"
   ]
  },
  {
   "cell_type": "markdown",
   "metadata": {},
   "source": [
    "## Step 2: Setup boundary linear system"
   ]
  },
  {
   "cell_type": "code",
   "execution_count": null,
   "metadata": {},
   "outputs": [],
   "source": [
    "m_vars = [var(f'm{i}{j}') for i in range(n) for j in range(n)]\n",
    "B_rows = []\n",
    "\n",
    "for i in range(n - 1):\n",
    "    for j in range(n - 1):\n",
    "        row = []\n",
    "        for k in range(n):\n",
    "            for l in range(n):\n",
    "                basis = standard_basis_matrix(n, n, k, l)\n",
    "                bdry_basis = bdry(basis)\n",
    "                row.append(bdry_basis[i, j])\n",
    "        B_rows.append(row)\n",
    "\n",
    "B = Matrix(ZZ, (n - 1) ** 2, n ** 2, B_rows)\n",
    "target_vec = vector(SR, [(diff_boundary[i, j]) for i in range(n - 1) for j in range(n - 1)])\n",
    "\n",
    "B, target_vec"
   ]
  },
  {
   "cell_type": "markdown",
   "metadata": {},
   "source": [
    "## Step 3: Solve the syzygy problem over polynomial ring"
   ]
  },
  {
   "cell_type": "code",
   "execution_count": null,
   "metadata": {},
   "outputs": [],
   "source": [
    "M = Matrix(R, B.nrows(), B.ncols(), B)\n",
    "syz = M.right_kernel()\n",
    "\n",
    "syz"
   ]
  }
 ]
}
