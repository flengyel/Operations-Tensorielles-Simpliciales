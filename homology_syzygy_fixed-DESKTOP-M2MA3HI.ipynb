{
 "cells": [
  {
   "cell_type": "markdown",
   "id": "921b4cc1",
   "metadata": {},
   "source": [
    "# Homology Syzygy Computation over ℤ\n",
    "\n",
    "This notebook computes whether a symbolic matrix is a boundary (homologically trivial) by explicitly constructing the boundary map and solving ∂(N) = T."
   ]
  },
  {
   "cell_type": "code",
   "execution_count": null,
   "id": "ff911896",
   "metadata": {},
   "outputs": [],
   "source": [
    "# This notebook requires the SageMath kernel\n",
    "# Please run under SageMath Jupyter kernel\n",
    "\n",
    "# Define the polynomial ring over Z\n",
    "R = PolynomialRing(ZZ, ['x00','x01','x02','x10','x11','x12','x20','x21','x22'])\n",
    "R.inject_variables()\n"
   ]
  },
  {
   "cell_type": "code",
   "execution_count": null,
   "id": "715427d4",
   "metadata": {},
   "outputs": [],
   "source": [
    "# Define shape\n",
    "n = 3\n",
    "\n",
    "# Symbolic (n x n) matrix\n",
    "A = matrix(R, n, n, [x00, x01, x02, x10, x11, x12, x20, x21, x22])\n",
    "\n",
    "def boundary_image(M):\n",
    "    return matrix(R, n-1, n-1, [\n",
    "        [M[1,1], M[1,2] - M[0,2] + M[0,1]],\n",
    "        [M[2,1] - M[2,0] + M[1,0], M[1,1]]\n",
    "    ])\n",
    "\n",
    "# Compute boundary of A\n",
    "BA = boundary_image(A)\n",
    "show(BA)\n"
   ]
  },
  {
   "cell_type": "code",
   "execution_count": null,
   "id": "ec06da6e",
   "metadata": {},
   "outputs": [],
   "source": [
    "# Define unknowns for preimage matrix N\n",
    "N_vars = var([f\"n{i}{j}\" for i in range(n) for j in range(n)])\n",
    "N = matrix(SR, n, n, N_vars)\n",
    "\n",
    "# Compute boundary of N\n",
    "BN = boundary_image(N)\n",
    "\n",
    "# Vectorize the system\n",
    "eqns = []\n",
    "rhs = []\n",
    "for i in range(n-1):\n",
    "    for j in range(n-1):\n",
    "        eqns.append(BN[i,j])\n",
    "        rhs.append(BA[i,j])\n",
    "\n",
    "# Solve for syzygies\n",
    "sol = solve([eq == rhs[i] for i, eq in enumerate(eqns)], N_vars, solution_dict=True)\n",
    "sol\n"
   ]
  }
 ],
 "metadata": {},
 "nbformat": 4,
 "nbformat_minor": 5
}
